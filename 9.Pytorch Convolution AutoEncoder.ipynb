{
  "cells": [
    {
      "cell_type": "markdown",
      "source": [
        "### Convolution Encoder\n",
        "\n",
        "# Background Dataset  : CIFAR10\n",
        "* Training Images : 50000\n",
        "* Testing Images : 10000"
      ],
      "metadata": {
        "id": "lDq-K9YB-vVO"
      }
    },
    {
      "cell_type": "markdown",
      "source": [
        "### **1.Load Libraries**\n",
        "\n",
        "The imported modules include:\n",
        "\n",
        "* `torchvision`: contains many popular computer vision datasets, deep neural network architectures, and image processing modules. We will use this to download the CIFAR10 dataset.\n",
        "* `torch.nn`: contains the deep learning neural network layers such as `Linear()`, and `Conv2d()`.\n",
        "* `transforms`: will help in defining the image transforms and normalizations.\n",
        "* `optim`: contains the deep learning optimizer classes such as `MSELoss()` and many others as well.\n",
        "* `functional`: we will use this for activation functions such as ReLU.\n",
        "* `DataLoader`: eases the task of making iterable training and testing sets."
      ],
      "metadata": {
        "id": "Y72VNbQL-vVY"
      }
    },
    {
      "cell_type": "code",
      "execution_count": 1,
      "source": [
        "# torch loaded...!!!\n",
        "import torch\n",
        "import torch.nn as nn\n",
        "import torch.nn.functional as F\n",
        "import torch.optim as optim\n",
        "\n",
        "# torchvision loaded...!!!\n",
        "import torchvision.transforms as transforms\n",
        "from torchvision.utils import save_image\n",
        "import torchvision.datasets as dsets\n",
        "from torchsummary import summary\n",
        "\n",
        "# other packages loaded...!!!\n",
        "import os\n",
        "import time\n",
        "import numpy as np\n",
        "import matplotlib.pyplot as plt\n",
        "%matplotlib inline"
      ],
      "outputs": [],
      "metadata": {
        "id": "p1bB718g-vVa"
      }
    },
    {
      "cell_type": "markdown",
      "source": [
        "### **2. Defining the Constants**"
      ],
      "metadata": {
        "id": "eJEXQJlQ-vVd"
      }
    },
    {
      "cell_type": "code",
      "execution_count": 13,
      "source": [
        "NUM_EPOCHS = 1 #20\n",
        "LEANRING_RATE = 0.001\n",
        "BATCH_SIZE = 4  #128"
      ],
      "outputs": [],
      "metadata": {
        "id": "6P0krgB_-vVd"
      }
    },
    {
      "cell_type": "markdown",
      "source": [
        "### **3.Preparing the Data and Load in Data Loader**"
      ],
      "metadata": {
        "id": "ZriMr4V5-vVe"
      }
    },
    {
      "cell_type": "code",
      "execution_count": 3,
      "source": [
        "transforms = transforms.Compose([\n",
        "    transforms.ToTensor(),\n",
        "    transforms.Normalize(mean=(0.5, 0.5, 0.5), std=(0.5, 0.5, 0.5))\n",
        "])"
      ],
      "outputs": [],
      "metadata": {
        "id": "DcZ9qxJC-vVf"
      }
    },
    {
      "cell_type": "code",
      "execution_count": 4,
      "source": [
        "# Download CIFAR10 dataset\n",
        "trainset = dsets.CIFAR10(root='./data_cifar10', train=True, download=True, transform=transforms)\n",
        "testset = dsets.CIFAR10(root='./data_cifar10', train=False, download=True, transform=transforms)\n",
        "\n",
        "# Data loader\n",
        "trainLoader = torch.utils.data.DataLoader(trainset, batch_size=BATCH_SIZE, shuffle=True, num_workers=2)\n",
        "testLoader = torch.utils.data.DataLoader(testset, batch_size=BATCH_SIZE, shuffle=False, num_workers=2)"
      ],
      "outputs": [
        {
          "output_type": "stream",
          "name": "stderr",
          "text": [
            "100%|██████████| 170M/170M [00:05<00:00, 32.8MB/s]\n"
          ]
        }
      ],
      "metadata": {
        "id": "9W-sIBN9-vVh",
        "outputId": "1244d678-a46b-4239-c829-511af8ec58f5",
        "colab": {
          "base_uri": "https://localhost:8080/"
        }
      }
    },
    {
      "cell_type": "markdown",
      "source": [
        "### **4.Some Helper functions**"
      ],
      "metadata": {
        "id": "0a_RC4j2-vVk"
      }
    },
    {
      "cell_type": "code",
      "execution_count": 5,
      "source": [
        "device = torch.device(\"cuda:0\" if torch.cuda.is_available() else \"cpu\")\n",
        "\n",
        "# Define the\n",
        "def make_dir():\n",
        "    image_dir = './image_cifar10/'\n",
        "    if not os.path.exists(image_dir):\n",
        "        os.mkdir(image_dir)\n",
        "\n",
        "# save decoded images\n",
        "def save_decoded_image(img, name):\n",
        "    img = img.view(img.size(0), 3, 32, 32)\n",
        "    save_image(img, './image_cifar10/' + name + '.png')"
      ],
      "outputs": [],
      "metadata": {
        "id": "kjkc8i1i-vVl"
      }
    },
    {
      "cell_type": "markdown",
      "source": [
        "We have three functions in the above code snippet. Let’s take a look at each of them.\n",
        "\n",
        "- `get_device()`: this function returns the computation device. That is, it will return either the CUDA GPU device if present, or the CPU.\n",
        "- `make_dir()`: this will make a directory named Conv_CIFAR10_Images. We will save the original and decoded images in this directory while training the neural network.\n",
        "- `save_decoded_image()`: this is a very simple function that will save the images in the Conv_CIFAR10_Images directory."
      ],
      "metadata": {
        "id": "j2kP7_PO-vVl"
      }
    },
    {
      "cell_type": "markdown",
      "source": [
        "### **5.Defining AutoEncoder Neural Network**"
      ],
      "metadata": {
        "id": "yYASWyAb-vVm"
      }
    },
    {
      "cell_type": "code",
      "execution_count": 6,
      "source": [
        "class AutoEncoder(nn.Module):\n",
        "    def __init__(self):\n",
        "        super(AutoEncoder, self).__init__()\n",
        "\n",
        "        # encoder\n",
        "        self.enc1 = nn.Conv2d(3, 8, 3)\n",
        "        self.enc2 = nn.Conv2d(8, 4, 3)\n",
        "\n",
        "        # decoder\n",
        "        self.dec1 = nn.ConvTranspose2d(4, 8, 3)\n",
        "        self.dec2 = nn.ConvTranspose2d(8, 3, 3)\n",
        "\n",
        "    def forward(self, x):\n",
        "        x = F.relu(self.enc1(x))\n",
        "        x = F.relu(self.enc2(x))\n",
        "        x = F.relu(self.dec1(x))\n",
        "        x = F.relu(self.dec2(x))\n",
        "        return x\n",
        "\n",
        "model = AutoEncoder().to(device)\n",
        "print(model)"
      ],
      "outputs": [
        {
          "output_type": "stream",
          "name": "stdout",
          "text": [
            "AutoEncoder(\n",
            "  (enc1): Conv2d(3, 8, kernel_size=(3, 3), stride=(1, 1))\n",
            "  (enc2): Conv2d(8, 4, kernel_size=(3, 3), stride=(1, 1))\n",
            "  (dec1): ConvTranspose2d(4, 8, kernel_size=(3, 3), stride=(1, 1))\n",
            "  (dec2): ConvTranspose2d(8, 3, kernel_size=(3, 3), stride=(1, 1))\n",
            ")\n"
          ]
        }
      ],
      "metadata": {
        "id": "QYtLdtsS-vVn",
        "outputId": "ad081ac0-1ca2-44e3-bd40-fe94fd565274",
        "colab": {
          "base_uri": "https://localhost:8080/"
        }
      }
    },
    {
      "cell_type": "code",
      "execution_count": 7,
      "source": [
        "summary(model, (3, 32, 32))"
      ],
      "outputs": [
        {
          "output_type": "stream",
          "name": "stdout",
          "text": [
            "----------------------------------------------------------------\n",
            "        Layer (type)               Output Shape         Param #\n",
            "================================================================\n",
            "            Conv2d-1            [-1, 8, 30, 30]             224\n",
            "            Conv2d-2            [-1, 4, 28, 28]             292\n",
            "   ConvTranspose2d-3            [-1, 8, 30, 30]             296\n",
            "   ConvTranspose2d-4            [-1, 3, 32, 32]             219\n",
            "================================================================\n",
            "Total params: 1,031\n",
            "Trainable params: 1,031\n",
            "Non-trainable params: 0\n",
            "----------------------------------------------------------------\n",
            "Input size (MB): 0.01\n",
            "Forward/backward pass size (MB): 0.16\n",
            "Params size (MB): 0.00\n",
            "Estimated Total Size (MB): 0.17\n",
            "----------------------------------------------------------------\n"
          ]
        }
      ],
      "metadata": {
        "id": "WTuT3-4U-vVn",
        "outputId": "f781e349-aa8c-4099-c1f6-fce56072ce31",
        "colab": {
          "base_uri": "https://localhost:8080/"
        }
      }
    },
    {
      "cell_type": "markdown",
      "source": [
        "### **6.Loss Function and Optimizer**\n"
      ],
      "metadata": {
        "id": "Ps9wbh7B-vVo"
      }
    },
    {
      "cell_type": "code",
      "execution_count": 8,
      "source": [
        "criterion = nn.MSELoss()\n",
        "optimizer = optim.Adam(model.parameters(), lr= LEANRING_RATE)"
      ],
      "outputs": [],
      "metadata": {
        "id": "1UlgGTTX-vVo"
      }
    },
    {
      "cell_type": "markdown",
      "source": [
        "### **7.Defining Training and Testing**"
      ],
      "metadata": {
        "id": "rki03Un4-vVp"
      }
    },
    {
      "cell_type": "code",
      "execution_count": 17,
      "source": [
        "def train(net, trainloader, NUM_EPOCHS):\n",
        "    train_loss = []\n",
        "    for epoch in range(NUM_EPOCHS):\n",
        "        start = time.time()\n",
        "        running_loss = 0.0\n",
        "        for data in trainloader:\n",
        "            img, _ = data # no need for the labels\n",
        "            img = img.to(device)\n",
        "            optimizer.zero_grad()\n",
        "            outputs = net(img)\n",
        "            loss = criterion(outputs, img)\n",
        "            loss.backward()\n",
        "            optimizer.step()\n",
        "            running_loss += loss.item()\n",
        "\n",
        "        loss = running_loss / len(trainloader)\n",
        "        train_loss.append(loss)\n",
        "        end = time.time()\n",
        "        total_time = end - start\n",
        "        print('- Epoch {} of {}, ETA: {:.2f} Train Loss: {:.3f}'.format(\n",
        "            epoch+1, NUM_EPOCHS, total_time, loss))\n",
        "\n",
        "        if epoch % 5 == 0:\n",
        "            save_decoded_image(img.cpu().data, name='original{}'.format(epoch))\n",
        "            save_decoded_image(outputs.cpu().data, name='decoded{}'.format(epoch))\n",
        "    return train_loss\n",
        "def test_image_reconstruction(net, testloader):\n",
        "     for batch in testloader:\n",
        "        img, _ = batch\n",
        "        img = img.to(device)\n",
        "        outputs = net(img)\n",
        "        outputs = outputs.view(outputs.size(0), 3, 32, 32).cpu().data\n",
        "        save_image(outputs, 'conv_cifar10_reconstruction1.png')\n",
        "        break"
      ],
      "outputs": [],
      "metadata": {
        "id": "42RFYr90-vVp"
      }
    },
    {
      "cell_type": "markdown",
      "source": [
        "### **9. Model training**"
      ],
      "metadata": {
        "id": "TRyb5ysl-vVq"
      }
    },
    {
      "cell_type": "code",
      "execution_count": 18,
      "source": [
        "model.to(device)\n",
        "make_dir()\n",
        "train_loss = train(model, trainLoader, NUM_EPOCHS)\n",
        "plt.figure()\n",
        "plt.plot(train_loss)\n",
        "plt.title('Train Loss')\n",
        "plt.xlabel('Epochs')\n",
        "plt.ylabel('Loss')\n",
        "plt.savefig('conv_ae_cifar10_loss.png')\n",
        "test_image_reconstruction(model, testLoader)"
      ],
      "outputs": [
        {
          "output_type": "stream",
          "name": "stdout",
          "text": [
            "- Epoch 1 of 1, ETA: 147.53 Train Loss: 0.144\n"
          ]
        },
        {
          "output_type": "display_data",
          "data": {
            "text/plain": [
              "<Figure size 640x480 with 1 Axes>"
            ],
            "image/png": "[encoded data removed]"
          },
          "metadata": {}
        }
      ],
      "metadata": {
        "id": "PhwxAYwm-vVq",
        "outputId": "c287944c-1a34-41c6-b9da-665616d2f7b3",
        "colab": {
          "base_uri": "https://localhost:8080/",
          "height": 489
        }
      }
    },
    {
      "cell_type": "code",
      "execution_count": 19,
      "source": [
        "import matplotlib.image as mpimg\n",
        "plt.figure(figsize=(10,20))\n",
        "img = mpimg.imread(\"conv_cifar10_reconstruction1.png\")\n",
        "plt.imshow(img)\n",
        "plt.show()"
      ],
      "outputs": [
        {
          "output_type": "display_data",
          "data": {
            "text/plain": [
              "<Figure size 1000x2000 with 1 Axes>"
            ],
            "image/png": "[encoded data removed]"
          },
          "metadata": {}
        }
      ],
      "metadata": {
        "id": "_qlHZgsk-vVr",
        "outputId": "8101173a-7df9-4a7e-b6cc-1dc0c7cbc2c7",
        "colab": {
          "base_uri": "https://localhost:8080/",
          "height": 224
        }
      }
    }
  ],
  "metadata": {
    "orig_nbformat": 4,
    "language_info": {
      "name": "python",
      "version": "3.8.0",
      "mimetype": "text/x-python",
      "codemirror_mode": {
        "name": "ipython",
        "version": 3
      },
      "pygments_lexer": "ipython3",
      "nbconvert_exporter": "python",
      "file_extension": ".py"
    },
    "kernelspec": {
      "name": "python3",
      "display_name": "Python 3.8.0 64-bit ('pytorch19': conda)"
    },
    "interpreter": {
      "hash": "884a8f81666a19c0851426c83cd6eaa7b212468ad852fb3caa21591c98d4369f"
    },
    "colab": {
      "provenance": []
    }
  },
  "nbformat": 4,
  "nbformat_minor": 0
}